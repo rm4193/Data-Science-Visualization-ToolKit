{
 "cells": [
  {
   "cell_type": "code",
   "execution_count": 1,
   "metadata": {},
   "outputs": [
    {
     "name": "stderr",
     "output_type": "stream",
     "text": [
      "C:\\Users\\BA_INTERN\\Anaconda3\\lib\\site-packages\\statsmodels\\tools\\_testing.py:19: FutureWarning: pandas.util.testing is deprecated. Use the functions in the public API at pandas.testing instead.\n",
      "  import pandas.util.testing as tm\n"
     ]
    }
   ],
   "source": [
    "from pylab import*\n",
    "from scipy.io import wavfile\n",
    "from scipy import signal\n",
    "import numpy as np\n",
    "import matplotlib.pyplot as plt\n",
    "import scipy.fftpack\n",
    "import pandas as pd\n",
    "#import chart_studio.plotly as py\n",
    "#from pydub import AudioSegment # immutable objects\n",
    "#import mpld3\n",
    "from scipy import stats\n",
    "import wavio\n",
    "import seaborn as sns\n",
    "\n",
    "import tkinter as tk\n",
    "from tkinter import filedialog\n",
    "\n",
    "import glob\n",
    "import os\n",
    "\n",
    "# add this package to the installation batch script\n",
    "# https://pypi.org/project/pyloudnorm/\n",
    "# pip install pyloudnorm\n",
    "# pip install soundfile\n",
    "\n",
    "import pyloudnorm as pyln\n",
    "import soundfile as sf\n",
    "\n",
    "\n",
    "#test_dir = r'C:\\Users\\BA_INTERN\\Desktop\\!!NEW_RECORDINGS_05-2020!!\\ARIA_NoD\\FullBand\\SineSweeps\\SineSweep_Day2-ARIA NoD-2.wav'\n",
    "\n"
   ]
  },
  {
   "cell_type": "code",
   "execution_count": 2,
   "metadata": {},
   "outputs": [],
   "source": [
    "def listOfAudioFiles():\n",
    "    root = tk.Tk()\n",
    "    dirname = filedialog.askdirectory(title='Please select a directory of WAV files you want to analyze')\n",
    "    newDirName = os.path.normpath(dirname) # converts tkinter directory path to normal OS path labeling\n",
    "    w = list(glob.glob(os.path.join(newDirName, '*.wav')))\n",
    "    nameOfFiles = [None]*len(w)\n",
    "    rate = [None]*len(w)\n",
    "    root.destroy()\n",
    "\n",
    "    #renaming the files brute force\n",
    "    for i in range(len(w)):\n",
    "        lastChar_index = w[i].rfind(\"\\\\\") # finds the index of the last occurrence of the input value - need to change per OS\n",
    "        temp = w[i][lastChar_index+1:]\n",
    "        secChar_index = temp.rfind(\".\")\n",
    "        realName = temp[:secChar_index]\n",
    "        nameOfFiles[i] = realName\n",
    "        #res = re.findall(r'\\w')\n",
    "        #res = re.search('(.WAV|.wav)', fname) # looks for upper or lowercase .wav files\n",
    "    \n",
    "    for i in range(len(w)):\n",
    "        w[i], rate[i] = sf.read(w[i])\n",
    "    \n",
    "    return w, rate, nameOfFiles"
   ]
  },
  {
   "cell_type": "code",
   "execution_count": 3,
   "metadata": {},
   "outputs": [],
   "source": [
    "def pairUp(internalPinkWav, internalPinkRate, internalPinkName, externalPinkWav, externalPinkRate, externalPinkName):\n",
    "    \n",
    "    cols = ['Stethoscope and day number', 'Pink Internal LUFS (dB)', 'Pink External LUFS (dB)', 'Delta LUFS']\n",
    "    df = pd.DataFrame(columns = cols)\n",
    "    substring = '_'\n",
    "    for i in range(len(internalPinkName)):\n",
    "        string1 = internalPinkName[i]\n",
    "        index1 = string1.find(substring)\n",
    "        string1 = string1[index1+1:]\n",
    "        \n",
    "        for j in range(len(externalPinkName)):\n",
    "            string2 = externalPinkName[j]\n",
    "            index2 = string2.find(substring)\n",
    "            string2 = string2[index2+1:]\n",
    "            \n",
    "            if string1 == string2:\n",
    "                \n",
    "                meter1 = pyln.Meter(internalPinkRate[i]) # create BS.1770-4 meter\n",
    "                loudness1 = meter1.integrated_loudness(internalPinkWav[i]) # measure loudness\n",
    "                #loudness1 = round(loudness1,4)\n",
    "    \n",
    "                meter2 = pyln.Meter(externalPinkRate[j]) # create BS.1770-4 meter\n",
    "                loudness2 = meter2.integrated_loudness(externalPinkWav[j]) # measure loudness\n",
    "                #loudness2 = round(loudness2,4)\n",
    "                \n",
    "                # external pink noise lufs - internal pink noise lufs\n",
    "                delta = loudness2-loudness1\n",
    "                \n",
    "                df = df.append({'Stethoscope and day number': string1,  'Pink Internal LUFS (dB)':loudness1,\n",
    "                                'Pink External LUFS (dB)':loudness2, 'Delta LUFS':delta  }, ignore_index=True)\n",
    "                \n",
    "    root = tk.Tk()\n",
    "    dirname = filedialog.askdirectory(title='Please select a directory to save your LUFS chart')            \n",
    "    df.to_csv(dirname+'/'+'LUFS chart.csv')\n",
    "    root.destroy()\n",
    "    \n",
    "    return df\n"
   ]
  },
  {
   "cell_type": "code",
   "execution_count": 50,
   "metadata": {},
   "outputs": [],
   "source": [
    "# isolating all the csv files within a massive in vitro file\n",
    "def massiveLufsChart():\n",
    "    test_dir = filedialog.askdirectory(title='Please select a directory of in vitro file with all of the LUFS charts')\n",
    "    listOfCSV = []\n",
    "    for root, dirs, files in os.walk(test_dir):\n",
    "        for file in files:\n",
    "            if file.endswith(\".csv\"):\n",
    "                 listOfCSV.append(os.path.join(root, file))\n",
    "                    \n",
    "    combined_csv = pd.concat([pd.read_csv(f) for f in listOfCSV ])\n",
    "    del combined_csv['Unnamed: 0']\n",
    "    combined_csv['index'] = range(len(combined_csv['Delta LUFS']))\n",
    "    combined_csv = combined_csv.set_index('index')\n",
    "    \n",
    "    root = tk.Tk()\n",
    "    dirname = filedialog.askdirectory(title='Please select a directory to save your large LUFS chart')            \n",
    "    combined_csv.to_csv(dirname+'/'+'Compiled LUFS chart.csv')\n",
    "    root.destroy()\n",
    "    \n",
    "    return combined_csv"
   ]
  },
  {
   "cell_type": "code",
   "execution_count": 47,
   "metadata": {},
   "outputs": [
    {
     "name": "stdout",
     "output_type": "stream",
     "text": [
      "Please choose internal pink noise wav file directory\n",
      "Please choose external pink noise wav file directory\n"
     ]
    }
   ],
   "source": [
    "# read in wav files from pink internal\n",
    "print(\"Please choose internal pink noise wav file directory\")\n",
    "internalPinkWav, internalPinkRate, internalPinkName = listOfAudioFiles()\n",
    "\n",
    "# read in wav files from pink external\n",
    "print(\"Please choose external pink noise wav file directory\")\n",
    "externalPinkWav, externalPinkRate, externalPinkName = listOfAudioFiles()\n",
    "\n",
    "# save dataframe of lufs\n",
    "print(\"Please choose where to save LUFS csv file\")\n",
    "yes = pairUp(internalPinkWav, internalPinkRate, internalPinkName, externalPinkWav, externalPinkRate, externalPinkName)\n"
   ]
  },
  {
   "cell_type": "code",
   "execution_count": 54,
   "metadata": {},
   "outputs": [],
   "source": [
    "compiled = massiveLufsChart()\n"
   ]
  },
  {
   "cell_type": "code",
   "execution_count": 55,
   "metadata": {},
   "outputs": [
    {
     "data": {
      "text/html": [
       "<div>\n",
       "<style scoped>\n",
       "    .dataframe tbody tr th:only-of-type {\n",
       "        vertical-align: middle;\n",
       "    }\n",
       "\n",
       "    .dataframe tbody tr th {\n",
       "        vertical-align: top;\n",
       "    }\n",
       "\n",
       "    .dataframe thead th {\n",
       "        text-align: right;\n",
       "    }\n",
       "</style>\n",
       "<table border=\"1\" class=\"dataframe\">\n",
       "  <thead>\n",
       "    <tr style=\"text-align: right;\">\n",
       "      <th></th>\n",
       "      <th>Stethoscope and day number</th>\n",
       "      <th>Pink Internal LUFS (dB)</th>\n",
       "      <th>Pink External LUFS (dB)</th>\n",
       "      <th>Delta LUFS</th>\n",
       "    </tr>\n",
       "    <tr>\n",
       "      <th>index</th>\n",
       "      <th></th>\n",
       "      <th></th>\n",
       "      <th></th>\n",
       "      <th></th>\n",
       "    </tr>\n",
       "  </thead>\n",
       "  <tbody>\n",
       "    <tr>\n",
       "      <th>0</th>\n",
       "      <td>Day1-ARIA NoD-2_205-775</td>\n",
       "      <td>-29.239360</td>\n",
       "      <td>-35.450598</td>\n",
       "      <td>-6.211238</td>\n",
       "    </tr>\n",
       "    <tr>\n",
       "      <th>1</th>\n",
       "      <td>Day2-ARIA NoD-2_205-775</td>\n",
       "      <td>-29.279330</td>\n",
       "      <td>-36.240382</td>\n",
       "      <td>-6.961052</td>\n",
       "    </tr>\n",
       "    <tr>\n",
       "      <th>2</th>\n",
       "      <td>Day3-ARIA NoD-2_205-775</td>\n",
       "      <td>-29.118780</td>\n",
       "      <td>-35.596322</td>\n",
       "      <td>-6.477542</td>\n",
       "    </tr>\n",
       "    <tr>\n",
       "      <th>3</th>\n",
       "      <td>Day4-ARIA NoD-2_205-775</td>\n",
       "      <td>-27.762838</td>\n",
       "      <td>-22.210801</td>\n",
       "      <td>5.552038</td>\n",
       "    </tr>\n",
       "    <tr>\n",
       "      <th>4</th>\n",
       "      <td>Day5-ARIA NoD-2_205-775</td>\n",
       "      <td>-27.916069</td>\n",
       "      <td>-30.087297</td>\n",
       "      <td>-2.171228</td>\n",
       "    </tr>\n",
       "    <tr>\n",
       "      <th>...</th>\n",
       "      <td>...</td>\n",
       "      <td>...</td>\n",
       "      <td>...</td>\n",
       "      <td>...</td>\n",
       "    </tr>\n",
       "    <tr>\n",
       "      <th>313</th>\n",
       "      <td>Day1-Thinklabs-9</td>\n",
       "      <td>-24.080876</td>\n",
       "      <td>-28.651638</td>\n",
       "      <td>-4.570762</td>\n",
       "    </tr>\n",
       "    <tr>\n",
       "      <th>314</th>\n",
       "      <td>Day2-Thinklabs-11</td>\n",
       "      <td>-24.003046</td>\n",
       "      <td>-30.019488</td>\n",
       "      <td>-6.016442</td>\n",
       "    </tr>\n",
       "    <tr>\n",
       "      <th>315</th>\n",
       "      <td>Day3-Thinklabs-11</td>\n",
       "      <td>-24.296303</td>\n",
       "      <td>-28.286973</td>\n",
       "      <td>-3.990671</td>\n",
       "    </tr>\n",
       "    <tr>\n",
       "      <th>316</th>\n",
       "      <td>Day4-Thinklabs-11</td>\n",
       "      <td>-23.843710</td>\n",
       "      <td>-28.459377</td>\n",
       "      <td>-4.615667</td>\n",
       "    </tr>\n",
       "    <tr>\n",
       "      <th>317</th>\n",
       "      <td>Day5-Thinklabs-11</td>\n",
       "      <td>-24.165668</td>\n",
       "      <td>-30.231295</td>\n",
       "      <td>-6.065626</td>\n",
       "    </tr>\n",
       "  </tbody>\n",
       "</table>\n",
       "<p>318 rows × 4 columns</p>\n",
       "</div>"
      ],
      "text/plain": [
       "      Stethoscope and day number  Pink Internal LUFS (dB)  \\\n",
       "index                                                       \n",
       "0        Day1-ARIA NoD-2_205-775               -29.239360   \n",
       "1        Day2-ARIA NoD-2_205-775               -29.279330   \n",
       "2        Day3-ARIA NoD-2_205-775               -29.118780   \n",
       "3        Day4-ARIA NoD-2_205-775               -27.762838   \n",
       "4        Day5-ARIA NoD-2_205-775               -27.916069   \n",
       "...                          ...                      ...   \n",
       "313             Day1-Thinklabs-9               -24.080876   \n",
       "314            Day2-Thinklabs-11               -24.003046   \n",
       "315            Day3-Thinklabs-11               -24.296303   \n",
       "316            Day4-Thinklabs-11               -23.843710   \n",
       "317            Day5-Thinklabs-11               -24.165668   \n",
       "\n",
       "       Pink External LUFS (dB)  Delta LUFS  \n",
       "index                                       \n",
       "0                   -35.450598   -6.211238  \n",
       "1                   -36.240382   -6.961052  \n",
       "2                   -35.596322   -6.477542  \n",
       "3                   -22.210801    5.552038  \n",
       "4                   -30.087297   -2.171228  \n",
       "...                        ...         ...  \n",
       "313                 -28.651638   -4.570762  \n",
       "314                 -30.019488   -6.016442  \n",
       "315                 -28.286973   -3.990671  \n",
       "316                 -28.459377   -4.615667  \n",
       "317                 -30.231295   -6.065626  \n",
       "\n",
       "[318 rows x 4 columns]"
      ]
     },
     "execution_count": 55,
     "metadata": {},
     "output_type": "execute_result"
    }
   ],
   "source": [
    "compiled\n"
   ]
  },
  {
   "cell_type": "code",
   "execution_count": 61,
   "metadata": {},
   "outputs": [
    {
     "data": {
      "text/plain": [
       "<matplotlib.axes._subplots.AxesSubplot at 0x1c2b3867b88>"
      ]
     },
     "execution_count": 61,
     "metadata": {},
     "output_type": "execute_result"
    },
    {
     "data": {
      "image/png": "[encoded data removed]",
      "text/plain": [
       "<Figure size 432x288 with 1 Axes>"
      ]
     },
     "metadata": {
      "needs_background": "light"
     },
     "output_type": "display_data"
    }
   ],
   "source": [
    "compiled[:10].plot.bar(x=\"Stethoscope and day number\", y=\"Delta LUFS\", rot=70, title=\"Noise rejection\")\n",
    "\n",
    "#plot.show(block=True)\n",
    "\n"
   ]
  },
  {
   "cell_type": "code",
   "execution_count": null,
   "metadata": {},
   "outputs": [],
   "source": []
  },
  {
   "cell_type": "code",
   "execution_count": null,
   "metadata": {},
   "outputs": [],
   "source": []
  },
  {
   "cell_type": "code",
   "execution_count": 2,
   "metadata": {},
   "outputs": [],
   "source": [
    "# using soundfile package\n",
    "data, rate = sf.read(test_dir)\n"
   ]
  },
  {
   "cell_type": "code",
   "execution_count": 3,
   "metadata": {},
   "outputs": [],
   "source": [
    "# pyloudnorm functions\n",
    "meter = pyln.Meter(rate) # create BS.1770-4 meter\n",
    "loudness = meter.integrated_loudness(data) # measure loudness\n"
   ]
  },
  {
   "cell_type": "code",
   "execution_count": null,
   "metadata": {},
   "outputs": [],
   "source": []
  }
 ],
 "metadata": {
  "kernelspec": {
   "display_name": "Python 3",
   "language": "python",
   "name": "python3"
  },
  "language_info": {
   "codemirror_mode": {
    "name": "ipython",
    "version": 3
   },
   "file_extension": ".py",
   "mimetype": "text/x-python",
   "name": "python",
   "nbconvert_exporter": "python",
   "pygments_lexer": "ipython3",
   "version": "3.7.4"
  }
 },
 "nbformat": 4,
 "nbformat_minor": 2
}
