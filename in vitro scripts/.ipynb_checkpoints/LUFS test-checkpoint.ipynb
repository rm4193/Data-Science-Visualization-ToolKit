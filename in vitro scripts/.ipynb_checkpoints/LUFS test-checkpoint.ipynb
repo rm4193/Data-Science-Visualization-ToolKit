{
 "cells": [
  {
   "cell_type": "code",
   "execution_count": 1,
   "metadata": {},
   "outputs": [
    {
     "name": "stderr",
     "output_type": "stream",
     "text": [
      "C:\\Users\\BA_INTERN\\Anaconda3\\lib\\site-packages\\statsmodels\\tools\\_testing.py:19: FutureWarning: pandas.util.testing is deprecated. Use the functions in the public API at pandas.testing instead.\n",
      "  import pandas.util.testing as tm\n"
     ]
    }
   ],
   "source": [
    "from pylab import*\n",
    "from scipy.io import wavfile\n",
    "from scipy import signal\n",
    "import numpy as np\n",
    "import matplotlib.pyplot as plt\n",
    "import scipy.fftpack\n",
    "import pandas as pd\n",
    "#import chart_studio.plotly as py\n",
    "#from pydub import AudioSegment # immutable objects\n",
    "#import mpld3\n",
    "from scipy import stats\n",
    "import wavio\n",
    "import seaborn as sns\n",
    "\n",
    "import tkinter as tk\n",
    "from tkinter import filedialog\n",
    "\n",
    "import glob\n",
    "import os\n",
    "\n",
    "# add this package to the installation batch script\n",
    "# https://pypi.org/project/pyloudnorm/\n",
    "# pip install pyloudnorm\n",
    "# pip install soundfile\n",
    "\n",
    "import pyloudnorm as pyln\n",
    "import soundfile as sf\n",
    "\n",
    "\n",
    "#test_dir = r'C:\\Users\\BA_INTERN\\Desktop\\!!NEW_RECORDINGS_05-2020!!\\ARIA_NoD\\FullBand\\SineSweeps\\SineSweep_Day2-ARIA NoD-2.wav'\n",
    "\n"
   ]
  },
  {
   "cell_type": "code",
   "execution_count": 2,
   "metadata": {},
   "outputs": [],
   "source": [
    "def listOfAudioFiles():\n",
    "    root = tk.Tk()\n",
    "    dirname = filedialog.askdirectory(title='Please select a directory of WAV files you want to analyze')\n",
    "    newDirName = os.path.normpath(dirname) # converts tkinter directory path to normal OS path labeling\n",
    "    w = list(glob.glob(os.path.join(newDirName, '*.wav')))\n",
    "    nameOfFiles = [None]*len(w)\n",
    "    rate = [None]*len(w)\n",
    "    root.destroy()\n",
    "\n",
    "    #renaming the files brute force\n",
    "    for i in range(len(w)):\n",
    "        lastChar_index = w[i].rfind(\"\\\\\") # finds the index of the last occurrence of the input value - need to change per OS\n",
    "        temp = w[i][lastChar_index+1:]\n",
    "        secChar_index = temp.rfind(\".\")\n",
    "        realName = temp[:secChar_index]\n",
    "        nameOfFiles[i] = realName\n",
    "        #res = re.findall(r'\\w')\n",
    "        #res = re.search('(.WAV|.wav)', fname) # looks for upper or lowercase .wav files\n",
    "    \n",
    "    for i in range(len(w)):\n",
    "        w[i], rate[i] = sf.read(w[i])\n",
    "    \n",
    "    return w, rate, nameOfFiles"
   ]
  },
  {
   "cell_type": "code",
   "execution_count": 3,
   "metadata": {},
   "outputs": [],
   "source": [
    "def pairUp(internalPinkWav, internalPinkRate, internalPinkName, externalPinkWav, externalPinkRate, externalPinkName):\n",
    "    \n",
    "    cols = ['Stethoscope and day number', 'Pink Internal LUFS (dB)', 'Pink External LUFS (dB)', 'Delta LUFS']\n",
    "    df = pd.DataFrame(columns = cols)\n",
    "    substring = '_'\n",
    "    for i in range(len(internalPinkName)):\n",
    "        string1 = internalPinkName[i]\n",
    "        index1 = string1.find(substring)\n",
    "        string1 = string1[index1+1:]\n",
    "        \n",
    "        for j in range(len(externalPinkName)):\n",
    "            string2 = externalPinkName[j]\n",
    "            index2 = string2.find(substring)\n",
    "            string2 = string2[index2+1:]\n",
    "            \n",
    "            if string1 == string2:\n",
    "                \n",
    "                meter1 = pyln.Meter(internalPinkRate[i]) # create BS.1770-4 meter\n",
    "                loudness1 = meter1.integrated_loudness(internalPinkWav[i]) # measure loudness\n",
    "                #loudness1 = round(loudness1,4)\n",
    "    \n",
    "                meter2 = pyln.Meter(externalPinkRate[j]) # create BS.1770-4 meter\n",
    "                loudness2 = meter2.integrated_loudness(externalPinkWav[j]) # measure loudness\n",
    "                #loudness2 = round(loudness2,4)\n",
    "                \n",
    "                # external pink noise lufs - internal pink noise lufs\n",
    "                delta = loudness2-loudness1\n",
    "                \n",
    "                df = df.append({'Stethoscope and day number': string1,  'Pink Internal LUFS (dB)':loudness1,\n",
    "                                'Pink External LUFS (dB)':loudness2, 'Delta LUFS':delta  }, ignore_index=True)\n",
    "                \n",
    "    root = tk.Tk()\n",
    "    dirname = filedialog.askdirectory(title='Please select a directory to save your LUFS chart')            \n",
    "    df.to_csv(dirname+'/'+'LUFS chart.csv')\n",
    "    root.destroy()\n",
    "    \n",
    "    return df\n"
   ]
  },
  {
   "cell_type": "code",
   "execution_count": 29,
   "metadata": {},
   "outputs": [
    {
     "ename": "PermissionError",
     "evalue": "[Errno 13] Permission denied: '/LUFS chart.csv'",
     "output_type": "error",
     "traceback": [
      "\u001b[1;31m---------------------------------------------------------------------------\u001b[0m",
      "\u001b[1;31mPermissionError\u001b[0m                           Traceback (most recent call last)",
      "\u001b[1;32m<ipython-input-29-858347b56275>\u001b[0m in \u001b[0;36m<module>\u001b[1;34m\u001b[0m\n\u001b[0;32m      6\u001b[0m \u001b[1;33m\u001b[0m\u001b[0m\n\u001b[0;32m      7\u001b[0m \u001b[1;31m# save dataframe of lufs\u001b[0m\u001b[1;33m\u001b[0m\u001b[1;33m\u001b[0m\u001b[1;33m\u001b[0m\u001b[0m\n\u001b[1;32m----> 8\u001b[1;33m \u001b[0myes\u001b[0m \u001b[1;33m=\u001b[0m \u001b[0mpairUp\u001b[0m\u001b[1;33m(\u001b[0m\u001b[0minternalPinkWav\u001b[0m\u001b[1;33m,\u001b[0m \u001b[0minternalPinkRate\u001b[0m\u001b[1;33m,\u001b[0m \u001b[0minternalPinkName\u001b[0m\u001b[1;33m,\u001b[0m \u001b[0mexternalPinkWav\u001b[0m\u001b[1;33m,\u001b[0m \u001b[0mexternalPinkRate\u001b[0m\u001b[1;33m,\u001b[0m \u001b[0mexternalPinkName\u001b[0m\u001b[1;33m)\u001b[0m\u001b[1;33m\u001b[0m\u001b[1;33m\u001b[0m\u001b[0m\n\u001b[0m",
      "\u001b[1;32m<ipython-input-3-765fd4a828f1>\u001b[0m in \u001b[0;36mpairUp\u001b[1;34m(internalPinkWav, internalPinkRate, internalPinkName, externalPinkWav, externalPinkRate, externalPinkName)\u001b[0m\n\u001b[0;32m     32\u001b[0m     \u001b[0mroot\u001b[0m \u001b[1;33m=\u001b[0m \u001b[0mtk\u001b[0m\u001b[1;33m.\u001b[0m\u001b[0mTk\u001b[0m\u001b[1;33m(\u001b[0m\u001b[1;33m)\u001b[0m\u001b[1;33m\u001b[0m\u001b[1;33m\u001b[0m\u001b[0m\n\u001b[0;32m     33\u001b[0m     \u001b[0mdirname\u001b[0m \u001b[1;33m=\u001b[0m \u001b[0mfiledialog\u001b[0m\u001b[1;33m.\u001b[0m\u001b[0maskdirectory\u001b[0m\u001b[1;33m(\u001b[0m\u001b[0mtitle\u001b[0m\u001b[1;33m=\u001b[0m\u001b[1;34m'Please select a directory to save your LUFS chart'\u001b[0m\u001b[1;33m)\u001b[0m\u001b[1;33m\u001b[0m\u001b[1;33m\u001b[0m\u001b[0m\n\u001b[1;32m---> 34\u001b[1;33m     \u001b[0mdf\u001b[0m\u001b[1;33m.\u001b[0m\u001b[0mto_csv\u001b[0m\u001b[1;33m(\u001b[0m\u001b[0mdirname\u001b[0m\u001b[1;33m+\u001b[0m\u001b[1;34m'/'\u001b[0m\u001b[1;33m+\u001b[0m\u001b[1;34m'LUFS chart.csv'\u001b[0m\u001b[1;33m)\u001b[0m\u001b[1;33m\u001b[0m\u001b[1;33m\u001b[0m\u001b[0m\n\u001b[0m\u001b[0;32m     35\u001b[0m     \u001b[0mroot\u001b[0m\u001b[1;33m.\u001b[0m\u001b[0mdestroy\u001b[0m\u001b[1;33m(\u001b[0m\u001b[1;33m)\u001b[0m\u001b[1;33m\u001b[0m\u001b[1;33m\u001b[0m\u001b[0m\n\u001b[0;32m     36\u001b[0m \u001b[1;33m\u001b[0m\u001b[0m\n",
      "\u001b[1;32m~\\Anaconda3\\lib\\site-packages\\pandas\\core\\generic.py\u001b[0m in \u001b[0;36mto_csv\u001b[1;34m(self, path_or_buf, sep, na_rep, float_format, columns, header, index, index_label, mode, encoding, compression, quoting, quotechar, line_terminator, chunksize, date_format, doublequote, escapechar, decimal)\u001b[0m\n\u001b[0;32m   3202\u001b[0m             \u001b[0mdecimal\u001b[0m\u001b[1;33m=\u001b[0m\u001b[0mdecimal\u001b[0m\u001b[1;33m,\u001b[0m\u001b[1;33m\u001b[0m\u001b[1;33m\u001b[0m\u001b[0m\n\u001b[0;32m   3203\u001b[0m         )\n\u001b[1;32m-> 3204\u001b[1;33m         \u001b[0mformatter\u001b[0m\u001b[1;33m.\u001b[0m\u001b[0msave\u001b[0m\u001b[1;33m(\u001b[0m\u001b[1;33m)\u001b[0m\u001b[1;33m\u001b[0m\u001b[1;33m\u001b[0m\u001b[0m\n\u001b[0m\u001b[0;32m   3205\u001b[0m \u001b[1;33m\u001b[0m\u001b[0m\n\u001b[0;32m   3206\u001b[0m         \u001b[1;32mif\u001b[0m \u001b[0mpath_or_buf\u001b[0m \u001b[1;32mis\u001b[0m \u001b[1;32mNone\u001b[0m\u001b[1;33m:\u001b[0m\u001b[1;33m\u001b[0m\u001b[1;33m\u001b[0m\u001b[0m\n",
      "\u001b[1;32m~\\Anaconda3\\lib\\site-packages\\pandas\\io\\formats\\csvs.py\u001b[0m in \u001b[0;36msave\u001b[1;34m(self)\u001b[0m\n\u001b[0;32m    186\u001b[0m                 \u001b[0mself\u001b[0m\u001b[1;33m.\u001b[0m\u001b[0mmode\u001b[0m\u001b[1;33m,\u001b[0m\u001b[1;33m\u001b[0m\u001b[1;33m\u001b[0m\u001b[0m\n\u001b[0;32m    187\u001b[0m                 \u001b[0mencoding\u001b[0m\u001b[1;33m=\u001b[0m\u001b[0mself\u001b[0m\u001b[1;33m.\u001b[0m\u001b[0mencoding\u001b[0m\u001b[1;33m,\u001b[0m\u001b[1;33m\u001b[0m\u001b[1;33m\u001b[0m\u001b[0m\n\u001b[1;32m--> 188\u001b[1;33m                 \u001b[0mcompression\u001b[0m\u001b[1;33m=\u001b[0m\u001b[0mdict\u001b[0m\u001b[1;33m(\u001b[0m\u001b[0mself\u001b[0m\u001b[1;33m.\u001b[0m\u001b[0mcompression_args\u001b[0m\u001b[1;33m,\u001b[0m \u001b[0mmethod\u001b[0m\u001b[1;33m=\u001b[0m\u001b[0mself\u001b[0m\u001b[1;33m.\u001b[0m\u001b[0mcompression\u001b[0m\u001b[1;33m)\u001b[0m\u001b[1;33m,\u001b[0m\u001b[1;33m\u001b[0m\u001b[1;33m\u001b[0m\u001b[0m\n\u001b[0m\u001b[0;32m    189\u001b[0m             )\n\u001b[0;32m    190\u001b[0m             \u001b[0mclose\u001b[0m \u001b[1;33m=\u001b[0m \u001b[1;32mTrue\u001b[0m\u001b[1;33m\u001b[0m\u001b[1;33m\u001b[0m\u001b[0m\n",
      "\u001b[1;32m~\\Anaconda3\\lib\\site-packages\\pandas\\io\\common.py\u001b[0m in \u001b[0;36mget_handle\u001b[1;34m(path_or_buf, mode, encoding, compression, memory_map, is_text)\u001b[0m\n\u001b[0;32m    426\u001b[0m         \u001b[1;32mif\u001b[0m \u001b[0mencoding\u001b[0m\u001b[1;33m:\u001b[0m\u001b[1;33m\u001b[0m\u001b[1;33m\u001b[0m\u001b[0m\n\u001b[0;32m    427\u001b[0m             \u001b[1;31m# Encoding\u001b[0m\u001b[1;33m\u001b[0m\u001b[1;33m\u001b[0m\u001b[1;33m\u001b[0m\u001b[0m\n\u001b[1;32m--> 428\u001b[1;33m             \u001b[0mf\u001b[0m \u001b[1;33m=\u001b[0m \u001b[0mopen\u001b[0m\u001b[1;33m(\u001b[0m\u001b[0mpath_or_buf\u001b[0m\u001b[1;33m,\u001b[0m \u001b[0mmode\u001b[0m\u001b[1;33m,\u001b[0m \u001b[0mencoding\u001b[0m\u001b[1;33m=\u001b[0m\u001b[0mencoding\u001b[0m\u001b[1;33m,\u001b[0m \u001b[0mnewline\u001b[0m\u001b[1;33m=\u001b[0m\u001b[1;34m\"\"\u001b[0m\u001b[1;33m)\u001b[0m\u001b[1;33m\u001b[0m\u001b[1;33m\u001b[0m\u001b[0m\n\u001b[0m\u001b[0;32m    429\u001b[0m         \u001b[1;32melif\u001b[0m \u001b[0mis_text\u001b[0m\u001b[1;33m:\u001b[0m\u001b[1;33m\u001b[0m\u001b[1;33m\u001b[0m\u001b[0m\n\u001b[0;32m    430\u001b[0m             \u001b[1;31m# No explicit encoding\u001b[0m\u001b[1;33m\u001b[0m\u001b[1;33m\u001b[0m\u001b[1;33m\u001b[0m\u001b[0m\n",
      "\u001b[1;31mPermissionError\u001b[0m: [Errno 13] Permission denied: '/LUFS chart.csv'"
     ]
    }
   ],
   "source": [
    "# read in wav files from pink internal\n",
    "internalPinkWav, internalPinkRate, internalPinkName = listOfAudioFiles()\n",
    "\n",
    "# read in wav files from pink external\n",
    "externalPinkWav, externalPinkRate, externalPinkName = listOfAudioFiles()\n",
    "\n",
    "# save dataframe of lufs\n",
    "yes = pairUp(internalPinkWav, internalPinkRate, internalPinkName, externalPinkWav, externalPinkRate, externalPinkName)\n"
   ]
  },
  {
   "cell_type": "code",
   "execution_count": null,
   "metadata": {},
   "outputs": [],
   "source": []
  },
  {
   "cell_type": "code",
   "execution_count": 2,
   "metadata": {},
   "outputs": [],
   "source": [
    "# using soundfile package\n",
    "data, rate = sf.read(test_dir)\n"
   ]
  },
  {
   "cell_type": "code",
   "execution_count": 3,
   "metadata": {},
   "outputs": [],
   "source": [
    "# pyloudnorm functions\n",
    "meter = pyln.Meter(rate) # create BS.1770-4 meter\n",
    "loudness = meter.integrated_loudness(data) # measure loudness\n"
   ]
  },
  {
   "cell_type": "code",
   "execution_count": null,
   "metadata": {},
   "outputs": [],
   "source": []
  }
 ],
 "metadata": {
  "kernelspec": {
   "display_name": "Python 3",
   "language": "python",
   "name": "python3"
  },
  "language_info": {
   "codemirror_mode": {
    "name": "ipython",
    "version": 3
   },
   "file_extension": ".py",
   "mimetype": "text/x-python",
   "name": "python",
   "nbconvert_exporter": "python",
   "pygments_lexer": "ipython3",
   "version": "3.7.4"
  }
 },
 "nbformat": 4,
 "nbformat_minor": 2
}
