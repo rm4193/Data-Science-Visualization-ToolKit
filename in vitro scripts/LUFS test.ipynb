{
 "cells": [
  {
   "cell_type": "code",
   "execution_count": 1,
   "metadata": {},
   "outputs": [
    {
     "name": "stderr",
     "output_type": "stream",
     "text": [
      "C:\\Users\\BA_INTERN\\Anaconda3\\lib\\site-packages\\statsmodels\\tools\\_testing.py:19: FutureWarning: pandas.util.testing is deprecated. Use the functions in the public API at pandas.testing instead.\n",
      "  import pandas.util.testing as tm\n"
     ]
    }
   ],
   "source": [
    "from pylab import*\n",
    "from scipy.io import wavfile\n",
    "from scipy import signal\n",
    "import numpy as np\n",
    "import matplotlib.pyplot as plt\n",
    "import scipy.fftpack\n",
    "import pandas as pd\n",
    "#import chart_studio.plotly as py\n",
    "#from pydub import AudioSegment # immutable objects\n",
    "#import mpld3\n",
    "from scipy import stats\n",
    "import wavio\n",
    "import seaborn as sns\n",
    "\n",
    "import tkinter as tk\n",
    "from tkinter import filedialog\n",
    "\n",
    "import glob\n",
    "import os\n",
    "\n",
    "# add this package to the installation batch script\n",
    "# https://pypi.org/project/pyloudnorm/\n",
    "# pip install pyloudnorm\n",
    "# pip install soundfile\n",
    "\n",
    "import pyloudnorm as pyln\n",
    "import soundfile as sf\n",
    "\n",
    "\n",
    "test_dir = r'C:\\Users\\BA_INTERN\\Desktop\\!!NEW_RECORDINGS_05-2020!!\\ARIA_NoD\\FullBand\\SineSweeps\\SineSweep_Day2-ARIA NoD-2.wav'\n",
    "\n"
   ]
  },
  {
   "cell_type": "code",
   "execution_count": 2,
   "metadata": {},
   "outputs": [],
   "source": [
    "def listOfAudioFiles():\n",
    "    root = tk.Tk()\n",
    "    dirname = filedialog.askdirectory(title='Please select a directory of WAV files you want to analyze')\n",
    "    newDirName = os.path.normpath(dirname) # converts tkinter directory path to normal OS path labeling\n",
    "    w = list(glob.glob(os.path.join(newDirName, '*.wav')))\n",
    "    nameOfFiles = [None]*len(w)\n",
    "    rate = [None]*len(w)\n",
    "\n",
    "    #renaming the files brute force\n",
    "    for i in range(len(w)):\n",
    "        lastChar_index = w[i].rfind(\"\\\\\") # finds the index of the last occurrence of the input value - need to change per OS\n",
    "        temp = w[i][lastChar_index+1:]\n",
    "        secChar_index = temp.rfind(\".\")\n",
    "        realName = temp[:secChar_index]\n",
    "        nameOfFiles[i] = realName\n",
    "        #res = re.findall(r'\\w')\n",
    "        #res = re.search('(.WAV|.wav)', fname) # looks for upper or lowercase .wav files\n",
    "    \n",
    "    for i in range(len(w)):\n",
    "        w[i], rate[i] = sf.read(w[i])\n",
    "    \n",
    "    return w, rate, nameOfFiles"
   ]
  },
  {
   "cell_type": "code",
   "execution_count": 3,
   "metadata": {},
   "outputs": [],
   "source": [
    "def pairUp(internalPinkWav, internalPinkRate, internalPinkName, externalPinkWav, externalPinkRate, externalPinkName):\n",
    "    \n",
    "    cols = ['Stethoscope and day number', 'Pink Internal LUFS (dB)', 'Pink External LUFS (dB)', 'Delta LUFS']\n",
    "    df = pd.DataFrame(columns = cols)\n",
    "    substring = '_'\n",
    "    for i in range(len(internalPinkName)):\n",
    "        string1 = internalPinkName[i]\n",
    "        index1 = string1.find(substring)\n",
    "        string1 = string1[index1+1:]\n",
    "        \n",
    "        for j in range(len(externalPinkName)):\n",
    "            string2 = externalPinkName[j]\n",
    "            index2 = string2.find(substring)\n",
    "            string2 = string2[index2+1:]\n",
    "            \n",
    "            if string1 == string2:\n",
    "                \n",
    "                meter1 = pyln.Meter(internalPinkRate[i]) # create BS.1770-4 meter\n",
    "                loudness1 = meter1.integrated_loudness(internalPinkWav[i]) # measure loudness\n",
    "                #loudness1 = round(loudness1,4)\n",
    "    \n",
    "                meter2 = pyln.Meter(externalPinkRate[j]) # create BS.1770-4 meter\n",
    "                loudness2 = meter2.integrated_loudness(externalPinkWav[j]) # measure loudness\n",
    "                #loudness2 = round(loudness2,4)\n",
    "                \n",
    "                # external pink noise lufs - internal pink noise lufs\n",
    "                delta = loudness2-loudness1\n",
    "                \n",
    "                df = df.append({'Stethoscope and day number': string1,  'Pink Internal LUFS (dB)':loudness1,\n",
    "                                'Pink External LUFS (dB)':loudness2, 'Delta LUFS':delta  }, ignore_index=True)\n",
    "                \n",
    "    root = tk.Tk()\n",
    "    dirname = filedialog.askdirectory(title='Please select a directory to save your LUFS chart')            \n",
    "    df.to_csv(dirname+'/'+'LUFS chart.csv')        \n",
    "    \n",
    "    return df\n"
   ]
  },
  {
   "cell_type": "code",
   "execution_count": 7,
   "metadata": {},
   "outputs": [],
   "source": [
    "# read in wav files from pink internal\n",
    "internalPinkWav, internalPinkRate, internalPinkName = listOfAudioFiles()\n",
    "\n",
    "# read in wav files from pink external\n",
    "externalPinkWav, externalPinkRate, externalPinkName = listOfAudioFiles()\n",
    "\n",
    "# save dataframe of lufs\n",
    "yes = pairUp(internalPinkWav, internalPinkRate, internalPinkName, externalPinkWav, externalPinkRate, externalPinkName)\n"
   ]
  },
  {
   "cell_type": "code",
   "execution_count": null,
   "metadata": {},
   "outputs": [],
   "source": []
  },
  {
   "cell_type": "code",
   "execution_count": 2,
   "metadata": {},
   "outputs": [],
   "source": [
    "# using soundfile package\n",
    "data, rate = sf.read(test_dir)\n"
   ]
  },
  {
   "cell_type": "code",
   "execution_count": 3,
   "metadata": {},
   "outputs": [],
   "source": [
    "# pyloudnorm functions\n",
    "meter = pyln.Meter(rate) # create BS.1770-4 meter\n",
    "loudness = meter.integrated_loudness(data) # measure loudness\n"
   ]
  },
  {
   "cell_type": "code",
   "execution_count": null,
   "metadata": {},
   "outputs": [],
   "source": []
  }
 ],
 "metadata": {
  "kernelspec": {
   "display_name": "Python 3",
   "language": "python",
   "name": "python3"
  },
  "language_info": {
   "codemirror_mode": {
    "name": "ipython",
    "version": 3
   },
   "file_extension": ".py",
   "mimetype": "text/x-python",
   "name": "python",
   "nbconvert_exporter": "python",
   "pygments_lexer": "ipython3",
   "version": "3.7.4"
  }
 },
 "nbformat": 4,
 "nbformat_minor": 2
}
